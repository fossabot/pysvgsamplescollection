{
 "cells": [
  {
   "cell_type": "markdown",
   "metadata": {},
   "source": [
    "<cite data-cite=\"2717012/HQZ448BT\"></cite>"
   ]
  },
  {
   "cell_type": "markdown",
   "metadata": {},
   "source": [
    "<div class=\"cite2c-biblio\"></div>"
   ]
  },
  {
   "cell_type": "code",
   "execution_count": null,
   "metadata": {},
   "outputs": [],
   "source": []
  }
 ],
 "metadata": {
  "cite2c": {
   "citations": {
    "2717012/HQZ448BT": {
     "DOI": "10.3390/s16101620",
     "URL": "https://www.ncbi.nlm.nih.gov/pmc/articles/PMC5087408/",
     "abstract": "A number of physical factors can adversely affect cultural heritage. Therefore, monitoring parameters involved in the deterioration process, principally temperature and relative humidity, is useful for preventive conservation. In this study, a total of 15 microclimate stations using open source hardware were developed and stationed at the Mosque-Cathedral of Córdoba, which is registered with UNESCO for its outstanding universal value, to assess the behavior of interior temperature and relative humidity in relation to exterior weather conditions, public hours and interior design. Long-term monitoring of these parameters is of interest in terms of preservation and reducing the costs of future conservation strategies. Results from monitoring are presented to demonstrate the usefulness of this system.",
     "accessed": {
      "day": 21,
      "month": 1,
      "year": 2019
     },
     "author": [
      {
       "family": "Mesas-Carrascosa",
       "given": "Francisco Javier"
      },
      {
       "family": "Verdú Santano",
       "given": "Daniel"
      },
      {
       "family": "Meroño de Larriva",
       "given": "Jose Emilio"
      },
      {
       "family": "Ortíz Cordero",
       "given": "Rafael"
      },
      {
       "family": "Hidalgo Fernández",
       "given": "Rafael Enrique"
      },
      {
       "family": "García-Ferrer",
       "given": "Alfonso"
      }
     ],
     "container-title": "Sensors (Basel, Switzerland)",
     "container-title-short": "Sensors (Basel)",
     "id": "2717012/HQZ448BT",
     "issue": "10",
     "issued": {
      "day": 29,
      "month": 9,
      "year": 2016
     },
     "journalAbbreviation": "Sensors (Basel)",
     "note": "PMID: 27690056\nPMCID: PMC5087408",
     "shortTitle": "Monitoring Heritage Buildings with Open Source Hardware Sensors",
     "title": "Monitoring Heritage Buildings with Open Source Hardware Sensors: A Case Study of the Mosque-Cathedral of Córdoba",
     "title-short": "Monitoring Heritage Buildings with Open Source Hardware Sensors",
     "type": "article-journal",
     "volume": "16"
    }
   }
  },
  "kernelspec": {
   "display_name": "Python 3",
   "language": "python",
   "name": "python3"
  },
  "language_info": {
   "codemirror_mode": {
    "name": "ipython",
    "version": 3
   },
   "file_extension": ".py",
   "mimetype": "text/x-python",
   "name": "python",
   "nbconvert_exporter": "python",
   "pygments_lexer": "ipython3",
   "version": "3.7.0"
  }
 },
 "nbformat": 4,
 "nbformat_minor": 2
}
